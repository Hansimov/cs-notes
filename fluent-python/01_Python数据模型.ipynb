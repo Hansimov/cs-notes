{
 "cells": [
  {
   "cell_type": "markdown",
   "metadata": {},
   "source": [
    "# 第一部分 序幕"
   ]
  },
  {
   "cell_type": "markdown",
   "metadata": {},
   "source": [
    "Python 最好的品质之一是一致性。\n",
    "\n",
    "数据模型其实是对 Python 框架的描述，它规范了这门语言自身构建模块的接口，这些模块包括但不限于序列、迭代器、函数、类和上下文管理器。\n",
    "\n",
    "Python 解释器碰到特殊的句法时，会使用特殊方法去激活一些基本的对象操作，这些特殊方法的名字以两个下划线开头，以两个下划线结尾。"
   ]
  },
  {
   "cell_type": "markdown",
   "metadata": {},
   "source": [
    "## 第1章 Python 数据模型"
   ]
  },
  {
   "cell_type": "markdown",
   "metadata": {},
   "source": [
    "### 一摞Python风格的纸牌"
   ]
  },
  {
   "cell_type": "code",
   "execution_count": 45,
   "metadata": {
    "code_folding": []
   },
   "outputs": [],
   "source": [
    "import collections\n",
    "Card = collections.namedtuple('Card', ['rank', 'suit'])\n",
    "\n",
    "suits = '♠ ♥ ♣ ♦'.split()\n",
    "ranks = [str(n) for n in range(2,11)] + list('JQKA')\n",
    "\n",
    "class FrenchDeck:\n",
    "    def __init__(self):\n",
    "        self._cards = [Card(rank, suit) for suit in suits\n",
    "                                        for rank in ranks]\n",
    "    \n",
    "    def __len__(self):\n",
    "        return len(self._cards)\n",
    "    \n",
    "    def __getitem__(self, position):\n",
    "        return self._cards[position]"
   ]
  },
  {
   "cell_type": "code",
   "execution_count": 11,
   "metadata": {},
   "outputs": [
    {
     "data": {
      "text/plain": [
       "Card(rank='7', suit='♦')"
      ]
     },
     "execution_count": 11,
     "metadata": {},
     "output_type": "execute_result"
    }
   ],
   "source": [
    "beer_card = Card('7', '♦')\n",
    "beer_card"
   ]
  },
  {
   "cell_type": "code",
   "execution_count": 12,
   "metadata": {},
   "outputs": [
    {
     "data": {
      "text/plain": [
       "52"
      ]
     },
     "execution_count": 12,
     "metadata": {},
     "output_type": "execute_result"
    }
   ],
   "source": [
    "deck = FrenchDeck()\n",
    "len(deck)"
   ]
  },
  {
   "cell_type": "code",
   "execution_count": 15,
   "metadata": {},
   "outputs": [
    {
     "data": {
      "text/plain": [
       "(Card(rank='2', suit='♠'), Card(rank='A', suit='♦'))"
      ]
     },
     "execution_count": 15,
     "metadata": {},
     "output_type": "execute_result"
    }
   ],
   "source": [
    "deck[0], deck[-1]"
   ]
  },
  {
   "cell_type": "code",
   "execution_count": 20,
   "metadata": {
    "code_folding": []
   },
   "outputs": [
    {
     "name": "stdout",
     "output_type": "stream",
     "text": [
      "Card(rank='10', suit='♣')\n",
      "Card(rank='4', suit='♣')\n",
      "Card(rank='9', suit='♦')\n",
      "Card(rank='2', suit='♦')\n",
      "Card(rank='4', suit='♦')\n"
     ]
    }
   ],
   "source": [
    "from random import choice\n",
    "for _ in range(5):\n",
    "    print(choice(deck))"
   ]
  },
  {
   "cell_type": "code",
   "execution_count": 27,
   "metadata": {},
   "outputs": [
    {
     "name": "stdout",
     "output_type": "stream",
     "text": [
      "Card(rank='2', suit='♠'), Card(rank='3', suit='♠'), Card(rank='4', suit='♠'), Card(rank='5', suit='♠'), Card(rank='6', suit='♠'), Card(rank='7', suit='♠'), Card(rank='8', suit='♠'), Card(rank='9', suit='♠'), Card(rank='10', suit='♠'), Card(rank='J', suit='♠'), "
     ]
    }
   ],
   "source": [
    "for card in deck[:10]:\n",
    "    print(card, end=\", \")"
   ]
  },
  {
   "cell_type": "code",
   "execution_count": 31,
   "metadata": {
    "scrolled": true
   },
   "outputs": [
    {
     "data": {
      "text/plain": [
       "True"
      ]
     },
     "execution_count": 31,
     "metadata": {},
     "output_type": "execute_result"
    }
   ],
   "source": [
    "Card('Q', suits[3]) in deck"
   ]
  },
  {
   "cell_type": "code",
   "execution_count": 46,
   "metadata": {
    "code_folding": []
   },
   "outputs": [],
   "source": [
    "suit_dict = {'♠':3, '♥':2, '♣':1, '♦':0}\n",
    "def spades_high(card):\n",
    "    rank_value = ranks.index(card.rank)\n",
    "    return rank_value * len(suit_dict) + suit_dict[card.suit]"
   ]
  },
  {
   "cell_type": "code",
   "execution_count": 47,
   "metadata": {
    "code_folding": [],
    "collapsed": true
   },
   "outputs": [
    {
     "name": "stdout",
     "output_type": "stream",
     "text": [
      "Card(rank='2', suit='♦')\n",
      "Card(rank='2', suit='♣')\n",
      "Card(rank='2', suit='♥')\n",
      "Card(rank='2', suit='♠')\n",
      "Card(rank='3', suit='♦')\n",
      "Card(rank='3', suit='♣')\n",
      "Card(rank='3', suit='♥')\n",
      "Card(rank='3', suit='♠')\n",
      "Card(rank='4', suit='♦')\n",
      "Card(rank='4', suit='♣')\n",
      "Card(rank='4', suit='♥')\n",
      "Card(rank='4', suit='♠')\n",
      "Card(rank='5', suit='♦')\n",
      "Card(rank='5', suit='♣')\n",
      "Card(rank='5', suit='♥')\n",
      "Card(rank='5', suit='♠')\n",
      "Card(rank='6', suit='♦')\n",
      "Card(rank='6', suit='♣')\n",
      "Card(rank='6', suit='♥')\n",
      "Card(rank='6', suit='♠')\n",
      "Card(rank='7', suit='♦')\n",
      "Card(rank='7', suit='♣')\n",
      "Card(rank='7', suit='♥')\n",
      "Card(rank='7', suit='♠')\n",
      "Card(rank='8', suit='♦')\n",
      "Card(rank='8', suit='♣')\n",
      "Card(rank='8', suit='♥')\n",
      "Card(rank='8', suit='♠')\n",
      "Card(rank='9', suit='♦')\n",
      "Card(rank='9', suit='♣')\n",
      "Card(rank='9', suit='♥')\n",
      "Card(rank='9', suit='♠')\n",
      "Card(rank='10', suit='♦')\n",
      "Card(rank='10', suit='♣')\n",
      "Card(rank='10', suit='♥')\n",
      "Card(rank='10', suit='♠')\n",
      "Card(rank='J', suit='♦')\n",
      "Card(rank='J', suit='♣')\n",
      "Card(rank='J', suit='♥')\n",
      "Card(rank='J', suit='♠')\n",
      "Card(rank='Q', suit='♦')\n",
      "Card(rank='Q', suit='♣')\n",
      "Card(rank='Q', suit='♥')\n",
      "Card(rank='Q', suit='♠')\n",
      "Card(rank='K', suit='♦')\n",
      "Card(rank='K', suit='♣')\n",
      "Card(rank='K', suit='♥')\n",
      "Card(rank='K', suit='♠')\n",
      "Card(rank='A', suit='♦')\n",
      "Card(rank='A', suit='♣')\n",
      "Card(rank='A', suit='♥')\n",
      "Card(rank='A', suit='♠')\n"
     ]
    }
   ],
   "source": [
    "for card in sorted(deck, key=spades_high):\n",
    "    print(card)"
   ]
  },
  {
   "cell_type": "markdown",
   "metadata": {},
   "source": [
    "### 如何使用特殊方法"
   ]
  },
  {
   "cell_type": "code",
   "execution_count": null,
   "metadata": {},
   "outputs": [],
   "source": []
  },
  {
   "cell_type": "markdown",
   "metadata": {},
   "source": [
    "### 特殊方法一览"
   ]
  },
  {
   "cell_type": "markdown",
   "metadata": {},
   "source": [
    "### 为什么len不是普通方法"
   ]
  },
  {
   "cell_type": "markdown",
   "metadata": {},
   "source": [
    "### 本章小总结"
   ]
  },
  {
   "cell_type": "markdown",
   "metadata": {},
   "source": [
    "### 延伸阅读"
   ]
  },
  {
   "cell_type": "code",
   "execution_count": null,
   "metadata": {},
   "outputs": [],
   "source": []
  }
 ],
 "metadata": {
  "kernelspec": {
   "display_name": "Python 3",
   "language": "python",
   "name": "python3"
  },
  "language_info": {
   "codemirror_mode": {
    "name": "ipython",
    "version": 3
   },
   "file_extension": ".py",
   "mimetype": "text/x-python",
   "name": "python",
   "nbconvert_exporter": "python",
   "pygments_lexer": "ipython3",
   "version": "3.6.4"
  },
  "toc": {
   "base_numbering": 1,
   "nav_menu": {},
   "number_sections": true,
   "sideBar": true,
   "skip_h1_title": false,
   "title_cell": "Table of Contents",
   "title_sidebar": "Contents",
   "toc_cell": false,
   "toc_position": {
    "height": "calc(100% - 180px)",
    "left": "10px",
    "top": "150px",
    "width": "254px"
   },
   "toc_section_display": true,
   "toc_window_display": true
  }
 },
 "nbformat": 4,
 "nbformat_minor": 2
}
